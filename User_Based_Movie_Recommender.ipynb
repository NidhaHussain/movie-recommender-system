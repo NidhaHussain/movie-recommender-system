{
  "nbformat": 4,
  "nbformat_minor": 0,
  "metadata": {
    "colab": {
      "provenance": []
    },
    "kernelspec": {
      "name": "python3",
      "display_name": "Python 3"
    },
    "language_info": {
      "name": "python"
    }
  },
  "cells": [
    {
      "cell_type": "code",
      "execution_count": 2,
      "metadata": {
        "id": "VoJao1hfIoJS"
      },
      "outputs": [],
      "source": [
        "import pandas as pd\n",
        "import numpy as np\n",
        "from sklearn.metrics.pairwise import cosine_similarity\n"
      ]
    },
    {
      "cell_type": "code",
      "source": [
        "# Sample movie ratings: user, movie, rating\n",
        "data = {\n",
        "    'user_id': [1, 1, 1, 2, 2, 3, 3],\n",
        "    'movie_id': [101, 102, 103, 101, 104, 102, 105],\n",
        "    'rating':   [5,   3,   4,   4,   2,   5,   3]\n",
        "}\n",
        "\n",
        "df = pd.DataFrame(data)\n",
        "print(df)\n"
      ],
      "metadata": {
        "colab": {
          "base_uri": "https://localhost:8080/"
        },
        "id": "eAwbjc3bI1ht",
        "outputId": "eb6ac443-a0f6-42c7-da6b-94f4fd17b08a"
      },
      "execution_count": 3,
      "outputs": [
        {
          "output_type": "stream",
          "name": "stdout",
          "text": [
            "   user_id  movie_id  rating\n",
            "0        1       101       5\n",
            "1        1       102       3\n",
            "2        1       103       4\n",
            "3        2       101       4\n",
            "4        2       104       2\n",
            "5        3       102       5\n",
            "6        3       105       3\n"
          ]
        }
      ]
    },
    {
      "cell_type": "code",
      "source": [
        "# Create a matrix: rows = users, columns = movies\n",
        "matrix = df.pivot_table(index='user_id', columns='movie_id', values='rating').fillna(0)\n",
        "print(matrix)\n"
      ],
      "metadata": {
        "colab": {
          "base_uri": "https://localhost:8080/"
        },
        "id": "Ic_mrnPVJBl3",
        "outputId": "0e537f62-83b8-4fd5-bcff-f45b29961038"
      },
      "execution_count": 4,
      "outputs": [
        {
          "output_type": "stream",
          "name": "stdout",
          "text": [
            "movie_id  101  102  103  104  105\n",
            "user_id                          \n",
            "1         5.0  3.0  4.0  0.0  0.0\n",
            "2         4.0  0.0  0.0  2.0  0.0\n",
            "3         0.0  5.0  0.0  0.0  3.0\n"
          ]
        }
      ]
    },
    {
      "cell_type": "code",
      "source": [
        "# Find how similar users are to each other\n",
        "user_similarity = cosine_similarity(matrix)\n",
        "user_similarity_df = pd.DataFrame(user_similarity, index=matrix.index, columns=matrix.index)\n",
        "print(user_similarity_df)\n"
      ],
      "metadata": {
        "colab": {
          "base_uri": "https://localhost:8080/"
        },
        "id": "d11f5rbzJEl4",
        "outputId": "cd295620-a1ee-43a3-cbec-1ece7fd57ca7"
      },
      "execution_count": 5,
      "outputs": [
        {
          "output_type": "stream",
          "name": "stdout",
          "text": [
            "user_id         1         2         3\n",
            "user_id                              \n",
            "1        1.000000  0.632456  0.363803\n",
            "2        0.632456  1.000000  0.000000\n",
            "3        0.363803  0.000000  1.000000\n"
          ]
        }
      ]
    },
    {
      "cell_type": "code",
      "source": [
        "def recommend_movies(user_id, matrix, user_similarity_df):\n",
        "    similar_users = user_similarity_df[user_id].sort_values(ascending=False)\n",
        "    similar_users = similar_users.drop(user_id)  # remove self\n",
        "\n",
        "    top_user = similar_users.index[0]  # most similar user\n",
        "\n",
        "    print(f\"Most similar user to User {user_id} is User {top_user}\")\n",
        "\n",
        "    user_ratings = matrix.loc[user_id]\n",
        "    top_user_ratings = matrix.loc[top_user]\n",
        "\n",
        "    recommendations = top_user_ratings[(user_ratings == 0) & (top_user_ratings > 0)]\n",
        "\n",
        "    return recommendations.sort_values(ascending=False)\n",
        "\n",
        "print(recommend_movies(1, matrix, user_similarity_df))\n"
      ],
      "metadata": {
        "colab": {
          "base_uri": "https://localhost:8080/"
        },
        "id": "_xYWMzi1JQmu",
        "outputId": "852183d2-cadf-437e-df1c-fcedf12f3a99"
      },
      "execution_count": 6,
      "outputs": [
        {
          "output_type": "stream",
          "name": "stdout",
          "text": [
            "Most similar user to User 1 is User 2\n",
            "movie_id\n",
            "104    2.0\n",
            "Name: 2, dtype: float64\n"
          ]
        }
      ]
    },
    {
      "cell_type": "code",
      "source": [
        "# Dictionary to map movie_id to movie names\n",
        "movie_titles = {\n",
        "    101: 'The Lion King',\n",
        "    102: 'Toy Story',\n",
        "    103: 'Finding Nemo',\n",
        "    104: 'Shrek',\n",
        "    105: 'Frozen'\n",
        "}\n"
      ],
      "metadata": {
        "id": "1O5MpZc0JUJq"
      },
      "execution_count": 7,
      "outputs": []
    },
    {
      "cell_type": "code",
      "source": [
        "import matplotlib.pyplot as plt\n",
        "\n",
        "def recommend_movies(user_id, matrix, user_similarity_df, movie_titles):\n",
        "    similar_users = user_similarity_df[user_id].sort_values(ascending=False)\n",
        "    similar_users = similar_users.drop(user_id)\n",
        "\n",
        "    top_user = similar_users.index[0]\n",
        "    print(f\"Most similar user to User {user_id} is User {top_user}\")\n",
        "\n",
        "    user_ratings = matrix.loc[user_id]\n",
        "    top_user_ratings = matrix.loc[top_user]\n",
        "\n",
        "    recommendations = top_user_ratings[(user_ratings == 0) & (top_user_ratings > 0)]\n",
        "    recommendations = recommendations.sort_values(ascending=False)\n",
        "\n",
        "    # Convert movie IDs to names\n",
        "    movie_names = [movie_titles.get(mid, f\"Movie {mid}\") for mid in recommendations.index]\n",
        "\n",
        "    # Plot\n",
        "    plt.figure(figsize=(8, 5))\n",
        "    plt.barh(movie_names, recommendations.values, color='skyblue')\n",
        "    plt.xlabel(\"Rating by similar user\")\n",
        "    plt.title(f\"Recommended Movies for User {user_id}\")\n",
        "    plt.gca().invert_yaxis()\n",
        "    plt.show()\n",
        "\n",
        "    return recommendations\n",
        "\n",
        "recommend_movies(1, matrix, user_similarity_df, movie_titles)\n"
      ],
      "metadata": {
        "colab": {
          "base_uri": "https://localhost:8080/",
          "height": 634
        },
        "id": "mcYWMr5UKJcQ",
        "outputId": "5089ff69-a6d4-4603-b72a-f439ad717252"
      },
      "execution_count": 8,
      "outputs": [
        {
          "output_type": "stream",
          "name": "stdout",
          "text": [
            "Most similar user to User 1 is User 2\n"
          ]
        },
        {
          "output_type": "display_data",
          "data": {
            "text/plain": [
              "<Figure size 800x500 with 1 Axes>"
            ],
            "image/png": "[encoded data removed]"
          },
          "metadata": {}
        },
        {
          "output_type": "execute_result",
          "data": {
            "text/plain": [
              "movie_id\n",
              "104    2.0\n",
              "Name: 2, dtype: float64"
            ],
            "text/html": [
              "<div>\n",
              "<style scoped>\n",
              "    .dataframe tbody tr th:only-of-type {\n",
              "        vertical-align: middle;\n",
              "    }\n",
              "\n",
              "    .dataframe tbody tr th {\n",
              "        vertical-align: top;\n",
              "    }\n",
              "\n",
              "    .dataframe thead th {\n",
              "        text-align: right;\n",
              "    }\n",
              "</style>\n",
              "<table border=\"1\" class=\"dataframe\">\n",
              "  <thead>\n",
              "    <tr style=\"text-align: right;\">\n",
              "      <th></th>\n",
              "      <th>2</th>\n",
              "    </tr>\n",
              "    <tr>\n",
              "      <th>movie_id</th>\n",
              "      <th></th>\n",
              "    </tr>\n",
              "  </thead>\n",
              "  <tbody>\n",
              "    <tr>\n",
              "      <th>104</th>\n",
              "      <td>2.0</td>\n",
              "    </tr>\n",
              "  </tbody>\n",
              "</table>\n",
              "</div><br><label><b>dtype:</b> float64</label>"
            ]
          },
          "metadata": {},
          "execution_count": 8
        }
      ]
    },
    {
      "cell_type": "code",
      "source": [
        "recommend_movies(1, matrix, user_similarity_df, movie_titles)\n"
      ],
      "metadata": {
        "colab": {
          "base_uri": "https://localhost:8080/",
          "height": 634
        },
        "id": "vgU2VZOaLT6v",
        "outputId": "2304db26-b1fb-4c88-df2a-3f8088ff8a68"
      },
      "execution_count": 9,
      "outputs": [
        {
          "output_type": "stream",
          "name": "stdout",
          "text": [
            "Most similar user to User 1 is User 2\n"
          ]
        },
        {
          "output_type": "display_data",
          "data": {
            "text/plain": [
              "<Figure size 800x500 with 1 Axes>"
            ],
            "image/png": "[encoded data removed]"
          },
          "metadata": {}
        },
        {
          "output_type": "execute_result",
          "data": {
            "text/plain": [
              "movie_id\n",
              "104    2.0\n",
              "Name: 2, dtype: float64"
            ],
            "text/html": [
              "<div>\n",
              "<style scoped>\n",
              "    .dataframe tbody tr th:only-of-type {\n",
              "        vertical-align: middle;\n",
              "    }\n",
              "\n",
              "    .dataframe tbody tr th {\n",
              "        vertical-align: top;\n",
              "    }\n",
              "\n",
              "    .dataframe thead th {\n",
              "        text-align: right;\n",
              "    }\n",
              "</style>\n",
              "<table border=\"1\" class=\"dataframe\">\n",
              "  <thead>\n",
              "    <tr style=\"text-align: right;\">\n",
              "      <th></th>\n",
              "      <th>2</th>\n",
              "    </tr>\n",
              "    <tr>\n",
              "      <th>movie_id</th>\n",
              "      <th></th>\n",
              "    </tr>\n",
              "  </thead>\n",
              "  <tbody>\n",
              "    <tr>\n",
              "      <th>104</th>\n",
              "      <td>2.0</td>\n",
              "    </tr>\n",
              "  </tbody>\n",
              "</table>\n",
              "</div><br><label><b>dtype:</b> float64</label>"
            ]
          },
          "metadata": {},
          "execution_count": 9
        }
      ]
    }
  ]
}